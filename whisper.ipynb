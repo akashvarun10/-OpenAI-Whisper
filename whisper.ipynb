{
 "cells": [
  {
   "cell_type": "code",
   "execution_count": 1,
   "metadata": {},
   "outputs": [
    {
     "data": {
      "text/plain": [
       "'/Users/akashvarun/Northeastern/OpenAI-Whisper/yt_audio.mp3'"
      ]
     },
     "execution_count": 1,
     "metadata": {},
     "output_type": "execute_result"
    }
   ],
   "source": [
    "import pytube as pt\n",
    "yt = pt. YouTube (\"https://youtu.be/bm6V84Lgz2w?si=9FE2HZ8NZvhhwL-I\")\n",
    "stream = yt.streams.filter(only_audio=True)[0]\n",
    "stream. download (filename=\"yt_audio.mp3\")"
   ]
  },
  {
   "cell_type": "code",
   "execution_count": 2,
   "metadata": {},
   "outputs": [],
   "source": [
    "import warnings\n",
    "warnings.filterwarnings(\"ignore\")"
   ]
  },
  {
   "cell_type": "code",
   "execution_count": 3,
   "metadata": {},
   "outputs": [
    {
     "name": "stdout",
     "output_type": "stream",
     "text": [
      " In this video, I will explain the similarities and differences between correlation, regression and causality. And as always, let's get right into it. As you already know from our video on correlation, correlation analysis examines the relationship of variables. But we were later in this video, we will discuss in detail why a correlation does not necessarily mean there is a causal relationship. One question might be, is there a correlation between the age at which a child speaks his or her first sentences and the latest school success? If the correlation analysis shows that the two characteristics are correlated, we could now investigate whether there is a causal relationship. If there is a causal relationship, school success could be predicted by the age at which a child speaks his or her first sentences, using a regression. So the question now is, do we have a causal relationship in our example? In this case, the answer is very easy, because we have a temporal separation. If there is a correlation between the age at which a child speaks his or her first sentences and the later school success, it is clear that the time at which a child speaks his or her first sentences, influences later school success and not the other way around. Later school success cannot influence the age at which a child speaks his or her first sentences. But be aware, it's not always that easy. Let's look at the next example. Let's say at the end of the school time, you make an intelligence test with pupils and ask them about their high school grade. After you've conducted your survey and you're analyzing your data, it will surely turn out that there is a correlation between intelligence and the high school grade. But now comes the big question mark. Is there a causal relationship? Of course, we could now simply set up a regression model and define intelligence as an independent variable and high school grade as our dependent variable. Then we could predict the high school grades by using intelligence. But this is not a proof of causality. I think now we can look at what causality means and under which conditions one can speak of causality. Accumacy means that there is a clear, cause-affect relationship between two variables. A common mistake in the interpretation of statistics is that when a correlation exists, it is immediately assumed to be a causal relationship. Here I have a suitable example for you. The American statistician, Derral Huff, found a negative correlation between the number of headlives and the body temperature of the inhabitants of a group of islands. A negative correlation means that people with many lives generally have a lower body temperature than people with few lives. And now the interpretation of the inhabitants. The inhabitants of the islands concluded, since lies reduce fever, they are good for health. So their assumption was that headlives have an influence on the body temperature. In fact, the right conclusion is the other way around. An experiment could prove that high fever drives away the lies. So the high body temperature is the cause, not the effect. Therefore, one cannot speak of a cause or relationship just because there is a correlation. For causality, there are exact preconditions. But what are the conditions for causality? When can we speak of a cause or relationship? There are two conditions for causality. First, there is a significant relationship that is a significant correlation. This precondition is of course quite easy to test. We simply take the correlation coefficient and check if it is significantly different from zero. The second condition can be satisfied in two ways. First, it is satisfied if there is a temporal ordering of the variables. So variable A was collected temporally before variable B. Furthermore, the second condition can be fulfilled if there is a theoretically founded and plausible theory in which direction the causal relationship goes. If neither of the two is true, which means that there is neither a temporal order nor can the causality be justified by a well-founded theory, then we can only speak of a relationship. But never of causality. Thus, it cannot be stated that variable A influences variable B or vice versa. Let's take a look at our examples again. In the first example, where the question is whether the age at which a child speaks the first sentences influences later school success, there is clearly a temporal component. The measurement of when the first sentences were spoken is clearly before the measurement of later school success. The relationship cannot be the other way around. If one has a grade school success by a lot of studying and support, this has of course no influence on when the first sentences were spoken. On the other hand, if we measure intelligence and the high school grades at the same time, we do not have this temporal component. In order to be able to make a statement here, we have to look for a well-founded theory of which variable influences which one. If no such theory exists, no statement about causality can be made. There is certainly a high correlation between intelligence and high school grade, but it could also be that people who study a lot have good grades and have acquired their knowledge to do well in an intelligence test. So in this case, the intelligence and the grades were determined at the same time. Of course, you can avoid this by taking the intelligence test before school starts, then you can be sure that the school had no influence on the intelligence test. For sure, this requires a lot of time and effort because you get the results many years later and the same people have to be interviewed at two different times. Now you have a good overview of what causality means and we can go into more detail about regression. Check out my video on simple and multi-belinear regression for that. I look forward to seeing you.\n"
     ]
    }
   ],
   "source": [
    "import whisper\n",
    "\n",
    "model = whisper.load_model(\"base\")\n",
    "result = model.transcribe(\"yt_audio.mp3\")\n",
    "text = result[\"text\"]   \n",
    "print(text)"
   ]
  },
  {
   "cell_type": "code",
   "execution_count": 4,
   "metadata": {},
   "outputs": [],
   "source": [
    "from langchain import OpenAI, LLMChain\n",
    "from langchain.chains.summarize import load_summarize_chain\n",
    "from langchain.text_splitter import  RecursiveCharacterTextSplitter"
   ]
  },
  {
   "cell_type": "code",
   "execution_count": 5,
   "metadata": {},
   "outputs": [
    {
     "data": {
      "text/plain": [
       "True"
      ]
     },
     "execution_count": 5,
     "metadata": {},
     "output_type": "execute_result"
    }
   ],
   "source": [
    "from dotenv import load_dotenv\n",
    "import os\n",
    "load_dotenv()\n",
    "\n"
   ]
  },
  {
   "cell_type": "code",
   "execution_count": 6,
   "metadata": {},
   "outputs": [],
   "source": [
    "api_key = os.getenv(\"OPENAI_API_KEY\")"
   ]
  },
  {
   "cell_type": "code",
   "execution_count": 7,
   "metadata": {},
   "outputs": [],
   "source": [
    "llm = OpenAI(model_name=\"gpt-3.5-turbo\",api_key=api_key)"
   ]
  },
  {
   "cell_type": "code",
   "execution_count": 8,
   "metadata": {},
   "outputs": [],
   "source": [
    "text_splitter = RecursiveCharacterTextSplitter(\n",
    "    chunk_size=1000, chunk_overlap=0\n",
    ")"
   ]
  },
  {
   "cell_type": "code",
   "execution_count": 9,
   "metadata": {},
   "outputs": [],
   "source": [
    "texts = text_splitter.split_text(text)"
   ]
  },
  {
   "cell_type": "code",
   "execution_count": 10,
   "metadata": {},
   "outputs": [
    {
     "name": "stdout",
     "output_type": "stream",
     "text": [
      "[\"In this video, I will explain the similarities and differences between correlation, regression and causality. And as always, let's get right into it. As you already know from our video on correlation, correlation analysis examines the relationship of variables. But we were later in this video, we will discuss in detail why a correlation does not necessarily mean there is a causal relationship. One question might be, is there a correlation between the age at which a child speaks his or her first sentences and the latest school success? If the correlation analysis shows that the two characteristics are correlated, we could now investigate whether there is a causal relationship. If there is a causal relationship, school success could be predicted by the age at which a child speaks his or her first sentences, using a regression. So the question now is, do we have a causal relationship in our example? In this case, the answer is very easy, because we have a temporal separation. If there is\", \"a correlation between the age at which a child speaks his or her first sentences and the later school success, it is clear that the time at which a child speaks his or her first sentences, influences later school success and not the other way around. Later school success cannot influence the age at which a child speaks his or her first sentences. But be aware, it's not always that easy. Let's look at the next example. Let's say at the end of the school time, you make an intelligence test with pupils and ask them about their high school grade. After you've conducted your survey and you're analyzing your data, it will surely turn out that there is a correlation between intelligence and the high school grade. But now comes the big question mark. Is there a causal relationship? Of course, we could now simply set up a regression model and define intelligence as an independent variable and high school grade as our dependent variable. Then we could predict the high school grades by using\", 'intelligence. But this is not a proof of causality. I think now we can look at what causality means and under which conditions one can speak of causality. Accumacy means that there is a clear, cause-affect relationship between two variables. A common mistake in the interpretation of statistics is that when a correlation exists, it is immediately assumed to be a causal relationship. Here I have a suitable example for you. The American statistician, Derral Huff, found a negative correlation between the number of headlives and the body temperature of the inhabitants of a group of islands. A negative correlation means that people with many lives generally have a lower body temperature than people with few lives. And now the interpretation of the inhabitants. The inhabitants of the islands concluded, since lies reduce fever, they are good for health. So their assumption was that headlives have an influence on the body temperature. In fact, the right conclusion is the other way around. An', 'experiment could prove that high fever drives away the lies. So the high body temperature is the cause, not the effect. Therefore, one cannot speak of a cause or relationship just because there is a correlation. For causality, there are exact preconditions. But what are the conditions for causality? When can we speak of a cause or relationship? There are two conditions for causality. First, there is a significant relationship that is a significant correlation. This precondition is of course quite easy to test. We simply take the correlation coefficient and check if it is significantly different from zero. The second condition can be satisfied in two ways. First, it is satisfied if there is a temporal ordering of the variables. So variable A was collected temporally before variable B. Furthermore, the second condition can be fulfilled if there is a theoretically founded and plausible theory in which direction the causal relationship goes. If neither of the two is true, which means that', \"there is neither a temporal order nor can the causality be justified by a well-founded theory, then we can only speak of a relationship. But never of causality. Thus, it cannot be stated that variable A influences variable B or vice versa. Let's take a look at our examples again. In the first example, where the question is whether the age at which a child speaks the first sentences influences later school success, there is clearly a temporal component. The measurement of when the first sentences were spoken is clearly before the measurement of later school success. The relationship cannot be the other way around. If one has a grade school success by a lot of studying and support, this has of course no influence on when the first sentences were spoken. On the other hand, if we measure intelligence and the high school grades at the same time, we do not have this temporal component. In order to be able to make a statement here, we have to look for a well-founded theory of which variable\", 'influences which one. If no such theory exists, no statement about causality can be made. There is certainly a high correlation between intelligence and high school grade, but it could also be that people who study a lot have good grades and have acquired their knowledge to do well in an intelligence test. So in this case, the intelligence and the grades were determined at the same time. Of course, you can avoid this by taking the intelligence test before school starts, then you can be sure that the school had no influence on the intelligence test. For sure, this requires a lot of time and effort because you get the results many years later and the same people have to be interviewed at two different times. Now you have a good overview of what causality means and we can go into more detail about regression. Check out my video on simple and multi-belinear regression for that. I look forward to seeing you.']\n"
     ]
    }
   ],
   "source": [
    "print(texts)"
   ]
  },
  {
   "cell_type": "code",
   "execution_count": 11,
   "metadata": {},
   "outputs": [
    {
     "name": "stdout",
     "output_type": "stream",
     "text": [
      "[Document(page_content=\"In this video, I will explain the similarities and differences between correlation, regression and causality. And as always, let's get right into it. As you already know from our video on correlation, correlation analysis examines the relationship of variables. But we were later in this video, we will discuss in detail why a correlation does not necessarily mean there is a causal relationship. One question might be, is there a correlation between the age at which a child speaks his or her first sentences and the latest school success? If the correlation analysis shows that the two characteristics are correlated, we could now investigate whether there is a causal relationship. If there is a causal relationship, school success could be predicted by the age at which a child speaks his or her first sentences, using a regression. So the question now is, do we have a causal relationship in our example? In this case, the answer is very easy, because we have a temporal separation. If there is\"), Document(page_content=\"a correlation between the age at which a child speaks his or her first sentences and the later school success, it is clear that the time at which a child speaks his or her first sentences, influences later school success and not the other way around. Later school success cannot influence the age at which a child speaks his or her first sentences. But be aware, it's not always that easy. Let's look at the next example. Let's say at the end of the school time, you make an intelligence test with pupils and ask them about their high school grade. After you've conducted your survey and you're analyzing your data, it will surely turn out that there is a correlation between intelligence and the high school grade. But now comes the big question mark. Is there a causal relationship? Of course, we could now simply set up a regression model and define intelligence as an independent variable and high school grade as our dependent variable. Then we could predict the high school grades by using\"), Document(page_content='intelligence. But this is not a proof of causality. I think now we can look at what causality means and under which conditions one can speak of causality. Accumacy means that there is a clear, cause-affect relationship between two variables. A common mistake in the interpretation of statistics is that when a correlation exists, it is immediately assumed to be a causal relationship. Here I have a suitable example for you. The American statistician, Derral Huff, found a negative correlation between the number of headlives and the body temperature of the inhabitants of a group of islands. A negative correlation means that people with many lives generally have a lower body temperature than people with few lives. And now the interpretation of the inhabitants. The inhabitants of the islands concluded, since lies reduce fever, they are good for health. So their assumption was that headlives have an influence on the body temperature. In fact, the right conclusion is the other way around. An'), Document(page_content='experiment could prove that high fever drives away the lies. So the high body temperature is the cause, not the effect. Therefore, one cannot speak of a cause or relationship just because there is a correlation. For causality, there are exact preconditions. But what are the conditions for causality? When can we speak of a cause or relationship? There are two conditions for causality. First, there is a significant relationship that is a significant correlation. This precondition is of course quite easy to test. We simply take the correlation coefficient and check if it is significantly different from zero. The second condition can be satisfied in two ways. First, it is satisfied if there is a temporal ordering of the variables. So variable A was collected temporally before variable B. Furthermore, the second condition can be fulfilled if there is a theoretically founded and plausible theory in which direction the causal relationship goes. If neither of the two is true, which means that'), Document(page_content=\"there is neither a temporal order nor can the causality be justified by a well-founded theory, then we can only speak of a relationship. But never of causality. Thus, it cannot be stated that variable A influences variable B or vice versa. Let's take a look at our examples again. In the first example, where the question is whether the age at which a child speaks the first sentences influences later school success, there is clearly a temporal component. The measurement of when the first sentences were spoken is clearly before the measurement of later school success. The relationship cannot be the other way around. If one has a grade school success by a lot of studying and support, this has of course no influence on when the first sentences were spoken. On the other hand, if we measure intelligence and the high school grades at the same time, we do not have this temporal component. In order to be able to make a statement here, we have to look for a well-founded theory of which variable\"), Document(page_content='influences which one. If no such theory exists, no statement about causality can be made. There is certainly a high correlation between intelligence and high school grade, but it could also be that people who study a lot have good grades and have acquired their knowledge to do well in an intelligence test. So in this case, the intelligence and the grades were determined at the same time. Of course, you can avoid this by taking the intelligence test before school starts, then you can be sure that the school had no influence on the intelligence test. For sure, this requires a lot of time and effort because you get the results many years later and the same people have to be interviewed at two different times. Now you have a good overview of what causality means and we can go into more detail about regression. Check out my video on simple and multi-belinear regression for that. I look forward to seeing you.')]\n"
     ]
    }
   ],
   "source": [
    "docs = text_splitter.create_documents(texts)\n",
    "print(docs)\n",
    "chain = load_summarize_chain(llm)\n"
   ]
  },
  {
   "cell_type": "code",
   "execution_count": 12,
   "metadata": {},
   "outputs": [],
   "source": [
    "summary = chain.run(docs)"
   ]
  },
  {
   "cell_type": "code",
   "execution_count": 14,
   "metadata": {},
   "outputs": [
    {
     "name": "stdout",
     "output_type": "stream",
     "text": [
      "The video discusses the similarities and differences between correlation, regression, and causality. It explains that correlation analysis examines the relationship between variables, but a correlation does not always indicate a causal relationship. Causality requires a significant correlation, temporal ordering of variables, and a theoretically founded theory to determine the direction of causality. Examples are provided to illustrate these concepts, emphasizing the importance of considering temporal components and theoretical justifications when determining causality. The video encourages further exploration of regression analysis for a deeper understanding.\n"
     ]
    }
   ],
   "source": [
    "print(summary)"
   ]
  }
 ],
 "metadata": {
  "kernelspec": {
   "display_name": "langchain",
   "language": "python",
   "name": "python3"
  },
  "language_info": {
   "codemirror_mode": {
    "name": "ipython",
    "version": 3
   },
   "file_extension": ".py",
   "mimetype": "text/x-python",
   "name": "python",
   "nbconvert_exporter": "python",
   "pygments_lexer": "ipython3",
   "version": "3.9.10"
  }
 },
 "nbformat": 4,
 "nbformat_minor": 2
}
